{
 "cells": [
  {
   "cell_type": "code",
   "execution_count": 29,
   "metadata": {
    "ExecuteTime": {
     "end_time": "2019-06-08T12:35:36.489717Z",
     "start_time": "2019-06-08T12:35:36.477709Z"
    }
   },
   "outputs": [],
   "source": [
    "\n",
    "import numpy as np"
   ]
  },
  {
   "cell_type": "code",
   "execution_count": 30,
   "metadata": {
    "ExecuteTime": {
     "end_time": "2019-06-08T12:35:38.259974Z",
     "start_time": "2019-06-08T12:35:38.239961Z"
    }
   },
   "outputs": [],
   "source": [
    "def step_gradient(X, Y, learning_rate, slope):\n",
    "    #As there are n features, we will initialize n slopes as 0\n",
    "    new_slope = np.zeros(X.shape[1])\n",
    "    #new_slope = np.copy(slope)\n",
    "    for i in range(X.shape[0]):\n",
    "        for j in range(X.shape[1]):\n",
    "            x = X[i][j]\n",
    "            y = Y[i]\n",
    "            new_slope[j] = -(2/X.shape[0]) * (y - (slope * X[i]).sum()) * x\n",
    "        #Update slope after every data point    \n",
    "        slope = slope - (learning_rate * new_slope) \n",
    "        \n",
    "    return slope"
   ]
  },
  {
   "cell_type": "code",
   "execution_count": 31,
   "metadata": {
    "ExecuteTime": {
     "end_time": "2019-06-08T12:35:39.927155Z",
     "start_time": "2019-06-08T12:35:39.907143Z"
    }
   },
   "outputs": [],
   "source": [
    "def gd(X, Y, learning_rate, num_iterations):\n",
    "    #Let the initial slopes be 0\n",
    "    slope = np.zeros(X.shape[1])\n",
    "    print(\"Cost at starting : \", cost(X, Y, slope))\n",
    "    for i in range(num_iterations):\n",
    "        slope = step_gradient(X, Y, learning_rate, slope)\n",
    "        print(\" Cost at \",i, \"iteration : \", cost(X, Y, slope))\n",
    "    print(\"Cost at end : \", cost(X, Y, slope))\n",
    "    print(\" slope are\",slope)\n",
    "    return slope"
   ]
  },
  {
   "cell_type": "code",
   "execution_count": 32,
   "metadata": {
    "ExecuteTime": {
     "end_time": "2019-06-08T12:35:43.735858Z",
     "start_time": "2019-06-08T12:35:43.716843Z"
    }
   },
   "outputs": [],
   "source": [
    "def cost(X, Y, slope):\n",
    "    total_cost = 0\n",
    "    for i in range(X.shape[0]):\n",
    "        total_cost += (1/X.shape[0])*((Y[i] - (slope * X[i]).sum())**2)\n",
    "    return total_cost"
   ]
  },
  {
   "cell_type": "code",
   "execution_count": 33,
   "metadata": {
    "ExecuteTime": {
     "end_time": "2019-06-08T12:35:45.717707Z",
     "start_time": "2019-06-08T12:35:45.702697Z"
    }
   },
   "outputs": [],
   "source": [
    "def run(X, Y, learning_rate, num_iterations):\n",
    "    slope = gd(X, Y, learning_rate, num_iterations)\n",
    "    return slope"
   ]
  },
  {
   "cell_type": "code",
   "execution_count": 2,
   "metadata": {
    "ExecuteTime": {
     "end_time": "2019-06-08T13:53:39.758135Z",
     "start_time": "2019-06-08T13:53:39.498946Z"
    },
    "scrolled": true
   },
   "outputs": [
    {
     "ename": "NameError",
     "evalue": "name 'run' is not defined",
     "output_type": "error",
     "traceback": [
      "\u001b[1;31m---------------------------------------------------------------------------\u001b[0m",
      "\u001b[1;31mNameError\u001b[0m                                 Traceback (most recent call last)",
      "\u001b[1;32m<ipython-input-2-21286147ab06>\u001b[0m in \u001b[0;36m<module>\u001b[1;34m()\u001b[0m\n\u001b[0;32m     12\u001b[0m \u001b[0mlearning_rate\u001b[0m \u001b[1;33m=\u001b[0m \u001b[1;36m0.00001\u001b[0m\u001b[1;33m\u001b[0m\u001b[0m\n\u001b[0;32m     13\u001b[0m \u001b[0mnum_iterations\u001b[0m \u001b[1;33m=\u001b[0m \u001b[1;36m1000\u001b[0m\u001b[1;33m\u001b[0m\u001b[0m\n\u001b[1;32m---> 14\u001b[1;33m \u001b[0mslope\u001b[0m \u001b[1;33m=\u001b[0m \u001b[0mrun\u001b[0m\u001b[1;33m(\u001b[0m\u001b[0mx\u001b[0m\u001b[1;33m,\u001b[0m \u001b[0my\u001b[0m\u001b[1;33m,\u001b[0m \u001b[0mlearning_rate\u001b[0m\u001b[1;33m,\u001b[0m \u001b[0mnum_iterations\u001b[0m\u001b[1;33m)\u001b[0m\u001b[1;33m\u001b[0m\u001b[0m\n\u001b[0m\u001b[0;32m     15\u001b[0m \u001b[0mdata2\u001b[0m\u001b[1;33m=\u001b[0m\u001b[0mnp\u001b[0m\u001b[1;33m.\u001b[0m\u001b[0mgenfromtxt\u001b[0m\u001b[1;33m(\u001b[0m\u001b[1;34m\"test_gd2.csv\"\u001b[0m\u001b[1;33m,\u001b[0m\u001b[0mdelimiter\u001b[0m\u001b[1;33m=\u001b[0m\u001b[1;34m\",\"\u001b[0m\u001b[1;33m)\u001b[0m\u001b[1;33m\u001b[0m\u001b[0m\n\u001b[0;32m     16\u001b[0m \u001b[0mdf\u001b[0m\u001b[1;33m=\u001b[0m\u001b[0mpd\u001b[0m\u001b[1;33m.\u001b[0m\u001b[0mDataFrame\u001b[0m\u001b[1;33m(\u001b[0m\u001b[0mdata2\u001b[0m\u001b[1;33m)\u001b[0m\u001b[1;33m\u001b[0m\u001b[0m\n",
      "\u001b[1;31mNameError\u001b[0m: name 'run' is not defined"
     ]
    }
   ],
   "source": [
    "import numpy as np\n",
    "import pandas as pd\n",
    "from sklearn import preprocessing\n",
    "data=np.genfromtxt(\"train_gd2.csv\",delimiter=\",\")\n",
    "#data.shape\n",
    "df=pd.DataFrame(data)\n",
    "y=df.iloc[:,4]\n",
    "df.drop(4,axis=1,inplace=True)\n",
    "df[4]=1\n",
    "x=df.values\n",
    "\n",
    "learning_rate = 0.00001\n",
    "num_iterations = 1000\n",
    "slope = run(x, y, learning_rate, num_iterations)\n",
    "data2=np.genfromtxt(\"test_gd2.csv\",delimiter=\",\")\n",
    "df=pd.DataFrame(data2)\n",
    "df[4]=1\n",
    "data2=df.values\n",
    "\n",
    "n=np.zeros(len(data2))\n",
    "for i in range(len(data2)):\n",
    "    total=(slope*data2[i]).sum()\n",
    "    n[i]+=total\n",
    "    print(i,\"prediction :\",total)\n",
    "    \n",
    "np.savetxt(\"predict_gd2.csv\",n,delimiter=\",\",fmt='%f')"
   ]
  },
  {
   "cell_type": "code",
   "execution_count": null,
   "metadata": {},
   "outputs": [],
   "source": []
  },
  {
   "cell_type": "code",
   "execution_count": null,
   "metadata": {},
   "outputs": [],
   "source": []
  }
 ],
 "metadata": {
  "hide_input": false,
  "kernelspec": {
   "display_name": "Python 3",
   "language": "python",
   "name": "python3"
  },
  "language_info": {
   "codemirror_mode": {
    "name": "ipython",
    "version": 3
   },
   "file_extension": ".py",
   "mimetype": "text/x-python",
   "name": "python",
   "nbconvert_exporter": "python",
   "pygments_lexer": "ipython3",
   "version": "3.6.5"
  },
  "toc": {
   "base_numbering": 1,
   "nav_menu": {},
   "number_sections": true,
   "sideBar": true,
   "skip_h1_title": false,
   "title_cell": "Table of Contents",
   "title_sidebar": "Contents",
   "toc_cell": false,
   "toc_position": {},
   "toc_section_display": true,
   "toc_window_display": false
  }
 },
 "nbformat": 4,
 "nbformat_minor": 2
}
